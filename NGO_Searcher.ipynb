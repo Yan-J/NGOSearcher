{
 "cells": [
  {
   "cell_type": "code",
   "execution_count": 121,
   "metadata": {
    "collapsed": true
   },
   "outputs": [],
   "source": [
    "#----------------------Get info from Twitter through Tweepy----------------------#\n",
    "import tweepy\n",
    "\n",
    "#Create variables for each key, secret, token.\n",
    "consumer_key = 'hrABYWoeNcdDgyMYUPqlcITNi'\n",
    "consumer_secret = '8KkiJEgeJySQ8ZFDA2ywHPx2cagifHqiXS7jxcsCWDtLPGV59K'\n",
    "access_token = '838796084038230016-L8xC5JUjkDxUvfNJR4iZACE5QIKlXMG'\n",
    "access_token_secret = 'jhQC3kWgc8SbkmlMnJ5965UDddeV61EbGbqcUnfzI3DuQ'\n",
    "\n",
    "#Set up OAuth and integrate with API.\n",
    "auth = tweepy.OAuthHandler(consumer_key, consumer_secret)\n",
    "auth.set_access_token(access_token, access_token_secret)\n",
    "api = tweepy.API(auth)"
   ]
  },
  {
   "cell_type": "code",
   "execution_count": 122,
   "metadata": {
    "collapsed": false
   },
   "outputs": [],
   "source": [
    "#Search for users.\n",
    "def get_user(keyword):\n",
    "    ulist = []\n",
    "    for i in range(3):\n",
    "        ulist.append(api.search_users(keyword, 20 ,i))\n",
    "    return ulist"
   ]
  },
  {
   "cell_type": "code",
   "execution_count": 123,
   "metadata": {
    "collapsed": true
   },
   "outputs": [],
   "source": [
    "from flask import Flask, abort, request, render_template\n",
    "from uuid import uuid4\n",
    "import requests\n",
    "import requests.auth\n",
    "import urllib\n",
    "import string\n",
    "import random\n",
    "import tweepy"
   ]
  },
  {
   "cell_type": "code",
   "execution_count": 124,
   "metadata": {
    "collapsed": false
   },
   "outputs": [
    {
     "name": "stderr",
     "output_type": "stream",
     "text": [
      " * Running on http://localhost:9000/ (Press CTRL+C to quit)\n",
      "127.0.0.1 - - [13/Mar/2017 11:12:23] \"GET / HTTP/1.1\" 200 -\n",
      "127.0.0.1 - - [13/Mar/2017 11:12:24] \"GET /assets/css/ie10-viewport-bug-workaround.css HTTP/1.1\" 404 -\n",
      "127.0.0.1 - - [13/Mar/2017 11:12:24] \"GET /assets/js/ie-emulation-modes-warning.js HTTP/1.1\" 404 -\n",
      "127.0.0.1 - - [13/Mar/2017 11:12:24] \"GET /assets/js/ie10-viewport-bug-workaround.js HTTP/1.1\" 404 -\n",
      "127.0.0.1 - - [13/Mar/2017 11:12:41] \"POST /search/ HTTP/1.1\" 200 -\n",
      "127.0.0.1 - - [13/Mar/2017 11:12:47] \"GET / HTTP/1.1\" 200 -\n",
      "127.0.0.1 - - [13/Mar/2017 11:12:47] \"GET /assets/css/ie10-viewport-bug-workaround.css HTTP/1.1\" 404 -\n",
      "127.0.0.1 - - [13/Mar/2017 11:12:47] \"GET /assets/js/ie-emulation-modes-warning.js HTTP/1.1\" 404 -\n",
      "127.0.0.1 - - [13/Mar/2017 11:12:47] \"GET /assets/js/ie10-viewport-bug-workaround.js HTTP/1.1\" 404 -\n",
      "127.0.0.1 - - [13/Mar/2017 11:12:53] \"POST /search/ HTTP/1.1\" 200 -\n",
      "127.0.0.1 - - [13/Mar/2017 11:13:00] \"GET / HTTP/1.1\" 200 -\n",
      "127.0.0.1 - - [13/Mar/2017 11:13:00] \"GET /assets/css/ie10-viewport-bug-workaround.css HTTP/1.1\" 404 -\n",
      "127.0.0.1 - - [13/Mar/2017 11:13:00] \"GET /assets/js/ie-emulation-modes-warning.js HTTP/1.1\" 404 -\n",
      "127.0.0.1 - - [13/Mar/2017 11:13:00] \"GET /assets/js/ie10-viewport-bug-workaround.js HTTP/1.1\" 404 -\n"
     ]
    }
   ],
   "source": [
    "app = Flask(__name__)\n",
    "\n",
    "# Search bar\n",
    "@app.route('/', methods=['GET', 'POST'])\n",
    "def homepage():\n",
    "    text = '<a href=\"%s\">Search for NGOs on Twitter</a>'\n",
    "    return render_template(\"index.html\")\n",
    "\n",
    "@app.route(\"/search/\", methods=['GET','POST'])\n",
    "def search():\n",
    "    location = request.form.get('location')\n",
    "    user_list = get_user(str(location)+\"+ non profit\")\n",
    "    return render_template('users.html', user_list=user_list,location = location)\n",
    "\n",
    "if __name__ == '__main__':\n",
    "    from werkzeug.serving import run_simple\n",
    "    run_simple('localhost', 9000, app)"
   ]
  },
  {
   "cell_type": "code",
   "execution_count": null,
   "metadata": {
    "collapsed": true
   },
   "outputs": [],
   "source": []
  }
 ],
 "metadata": {
  "anaconda-cloud": {},
  "kernelspec": {
   "display_name": "Python 2",
   "language": "python",
   "name": "python2"
  },
  "language_info": {
   "codemirror_mode": {
    "name": "ipython",
    "version": 2
   },
   "file_extension": ".py",
   "mimetype": "text/x-python",
   "name": "python",
   "nbconvert_exporter": "python",
   "pygments_lexer": "ipython2",
   "version": "2.7.12"
  }
 },
 "nbformat": 4,
 "nbformat_minor": 1
}
