{
 "cells": [
  {
   "cell_type": "code",
   "execution_count": 10,
   "metadata": {
    "collapsed": true
   },
   "outputs": [],
   "source": [
    "#----------------------Get info from Twitter through Tweepy----------------------#\n",
    "import tweepy\n",
    "\n",
    "#Create variables for each key, secret, token.\n",
    "consumer_key = 'hrABYWoeNcdDgyMYUPqlcITNi'\n",
    "consumer_secret = '8KkiJEgeJySQ8ZFDA2ywHPx2cagifHqiXS7jxcsCWDtLPGV59K'\n",
    "access_token = '838796084038230016-L8xC5JUjkDxUvfNJR4iZACE5QIKlXMG'\n",
    "access_token_secret = 'jhQC3kWgc8SbkmlMnJ5965UDddeV61EbGbqcUnfzI3DuQ'\n",
    "\n",
    "#Set up OAuth and integrate with API.\n",
    "auth = tweepy.OAuthHandler(consumer_key, consumer_secret)\n",
    "auth.set_access_token(access_token, access_token_secret)\n",
    "api = tweepy.API(auth)"
   ]
  },
  {
   "cell_type": "code",
   "execution_count": 11,
   "metadata": {
    "collapsed": false
   },
   "outputs": [],
   "source": [
    "#Search for users.\n",
    "def get_user(keyword):\n",
    "    use_list = []\n",
    "    for i in range(5):\n",
    "        user_list.append(api.search_users(keyword, 20 ,i))\n",
    "        \n",
    "    for user in user_list:\n",
    "        print (user.name + \" \" + str(user.followers_count)+ \" \" + user.location)#Alias\n",
    "    \n",
    "    return use_list"
   ]
  },
  {
   "cell_type": "code",
   "execution_count": 12,
   "metadata": {
    "collapsed": true
   },
   "outputs": [],
   "source": [
    "from flask import Flask, abort, request, render_template\n",
    "from uuid import uuid4\n",
    "import requests\n",
    "import requests.auth\n",
    "import urllib\n",
    "import string\n",
    "import random\n",
    "import tweepy"
   ]
  },
  {
   "cell_type": "code",
   "execution_count": 20,
   "metadata": {
    "collapsed": false
   },
   "outputs": [
    {
     "name": "stderr",
     "output_type": "stream",
     "text": [
      " * Running on http://localhost:9000/ (Press CTRL+C to quit)\n",
      "127.0.0.1 - - [13/Mar/2017 09:46:00] \"GET / HTTP/1.1\" 200 -\n",
      "127.0.0.1 - - [13/Mar/2017 09:46:00] \"GET /assets/css/ie10-viewport-bug-workaround.css HTTP/1.1\" 404 -\n",
      "127.0.0.1 - - [13/Mar/2017 09:46:00] \"GET /assets/js/ie-emulation-modes-warning.js HTTP/1.1\" 404 -\n",
      "127.0.0.1 - - [13/Mar/2017 09:46:00] \"GET /assets/js/ie10-viewport-bug-workaround.js HTTP/1.1\" 404 -\n",
      "127.0.0.1 - - [13/Mar/2017 09:46:03] \"POST /search HTTP/1.1\" 301 -\n",
      "[2017-03-13 09:46:03,485] ERROR in app: Exception on /search/ [GET]\n",
      "Traceback (most recent call last):\n",
      "  File \"/Users/jiangcw/anaconda/lib/python2.7/site-packages/flask/app.py\", line 1988, in wsgi_app\n",
      "    response = self.full_dispatch_request()\n",
      "  File \"/Users/jiangcw/anaconda/lib/python2.7/site-packages/flask/app.py\", line 1641, in full_dispatch_request\n",
      "    rv = self.handle_user_exception(e)\n",
      "  File \"/Users/jiangcw/anaconda/lib/python2.7/site-packages/flask/app.py\", line 1544, in handle_user_exception\n",
      "    reraise(exc_type, exc_value, tb)\n",
      "  File \"/Users/jiangcw/anaconda/lib/python2.7/site-packages/flask/app.py\", line 1639, in full_dispatch_request\n",
      "    rv = self.dispatch_request()\n",
      "  File \"/Users/jiangcw/anaconda/lib/python2.7/site-packages/flask/app.py\", line 1625, in dispatch_request\n",
      "    return self.view_functions[rule.endpoint](**req.view_args)\n",
      "  File \"<ipython-input-20-ce0ee222fdb5>\", line 13, in search\n",
      "    user_list = get_user(location+\"non profit\")\n",
      "TypeError: unsupported operand type(s) for +: 'NoneType' and 'str'\n",
      "127.0.0.1 - - [13/Mar/2017 09:46:03] \"GET /search/ HTTP/1.1\" 500 -\n"
     ]
    },
    {
     "name": "stdout",
     "output_type": "stream",
     "text": [
      "ImmutableMultiDict([])\n"
     ]
    }
   ],
   "source": [
    "app = Flask(__name__)\n",
    "\n",
    "# Search bar\n",
    "@app.route('/', methods=['GET', 'POST'])\n",
    "def homepage():\n",
    "    text = '<a href=\"%s\">Search for NGOs on Twitter</a>'\n",
    "    return render_template(\"index.html\")\n",
    "\n",
    "@app.route(\"/search/\", methods=['GET','POST'])\n",
    "def search():\n",
    "    location = request.form.get(\"location\")\n",
    "    print(request.form)\n",
    "    print(location)\n",
    "    user_list = []\n",
    "    return render_template('users.html', user_list=user_list)\n",
    "\n",
    "@app.route(\"/search/<location>/\")\n",
    "def users(location = None):\n",
    "    user_list = get_user(str(location)+\"non profit\")\n",
    "    return render_template('user.html', user_list=user_list)\n",
    "\n",
    "if __name__ == '__main__':\n",
    "    from werkzeug.serving import run_simple\n",
    "    run_simple('localhost', 9000, app)"
   ]
  },
  {
   "cell_type": "code",
   "execution_count": null,
   "metadata": {
    "collapsed": true
   },
   "outputs": [],
   "source": []
  }
 ],
 "metadata": {
  "anaconda-cloud": {},
  "kernelspec": {
   "display_name": "Python 2",
   "language": "python",
   "name": "python2"
  },
  "language_info": {
   "codemirror_mode": {
    "name": "ipython",
    "version": 2
   },
   "file_extension": ".py",
   "mimetype": "text/x-python",
   "name": "python",
   "nbconvert_exporter": "python",
   "pygments_lexer": "ipython2",
   "version": "2.7.12"
  }
 },
 "nbformat": 4,
 "nbformat_minor": 1
}
